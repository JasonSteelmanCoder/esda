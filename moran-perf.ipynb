{
 "cells": [
  {
   "cell_type": "markdown",
   "metadata": {},
   "source": [
    "# Testing different implementations of randomisation in `Moran_Local`"
   ]
  },
  {
   "cell_type": "code",
   "execution_count": 1,
   "metadata": {},
   "outputs": [],
   "source": [
    "from importlib import reload\n",
    "import esda\n",
    "import libpysal as ps\n",
    "import geopandas\n",
    "import pandas\n",
    "import numpy as np\n",
    "\n",
    "PERMS = 9999\n",
    "\n",
    "from libpysal.examples import get_path, load_example"
   ]
  },
  {
   "cell_type": "code",
   "execution_count": 4,
   "metadata": {},
   "outputs": [
    {
     "name": "stdout",
     "output_type": "stream",
     "text": [
      "Downloading NCOVR to /home/jovyan/pysal_data/NCOVR\n"
     ]
    }
   ],
   "source": [
    "_ = load_example(\"NCOVR\")\n",
    "\n",
    "nat = geopandas.read_file(get_path(\"NAT.shp\"))"
   ]
  },
  {
   "cell_type": "markdown",
   "metadata": {},
   "source": [
    "- Load up data"
   ]
  },
  {
   "cell_type": "code",
   "execution_count": 2,
   "metadata": {},
   "outputs": [],
   "source": [
    "y_name = \"HR70\"\n",
    "#y_name = \"HOVAL\"\n",
    "db = geopandas.read_file(get_path(\"NAT.shp\"))\n",
    "\n",
    "w = ps.weights.Queen.from_dataframe(db)\n",
    "cardinalities = pandas.Series(w.cardinalities).values"
   ]
  },
  {
   "cell_type": "markdown",
   "metadata": {},
   "source": [
    "## LISA conditional randomisation"
   ]
  },
  {
   "cell_type": "markdown",
   "metadata": {},
   "source": [
    "- Example with \"as is\" codebase:"
   ]
  },
  {
   "cell_type": "code",
   "execution_count": 3,
   "metadata": {},
   "outputs": [],
   "source": [
    "lisa_old = esda.Moran_Local(db[y_name], w, permutations=PERMS)"
   ]
  },
  {
   "cell_type": "code",
   "execution_count": 4,
   "metadata": {},
   "outputs": [
    {
     "name": "stdout",
     "output_type": "stream",
     "text": [
      "3.25 s ± 62.5 ms per loop (mean ± std. dev. of 7 runs, 1 loop each)\n"
     ]
    }
   ],
   "source": [
    "# Proper timing\n",
    "%timeit lisa_old = esda.Moran_Local(db[y_name], w, permutations=PERMS)"
   ]
  },
  {
   "cell_type": "markdown",
   "metadata": {},
   "source": [
    "- `numba` hooked up on `Moran_Local`. Parallel."
   ]
  },
  {
   "cell_type": "code",
   "execution_count": 5,
   "metadata": {},
   "outputs": [
    {
     "name": "stdout",
     "output_type": "stream",
     "text": [
      "The slowest run took 5.22 times longer than the fastest. This could mean that an intermediate result is being cached.\n",
      "3.62 s ± 1.15 s per loop (mean ± std. dev. of 7 runs, 1 loop each)\n"
     ]
    }
   ],
   "source": [
    "n_jobs = 2\n",
    "lisa = esda.Moran_Local(db[y_name], w, permutations=PERMS, \n",
    "                        numba=True, n_jobs=n_jobs)\n",
    "%timeit lisa = esda.Moran_Local(db[y_name], w, permutations=PERMS, \\\n",
    "                                numba=True, n_jobs=n_jobs)"
   ]
  },
  {
   "cell_type": "markdown",
   "metadata": {},
   "source": [
    "- Comparison of P-values"
   ]
  },
  {
   "cell_type": "code",
   "execution_count": 6,
   "metadata": {},
   "outputs": [
    {
     "data": {
      "text/plain": [
       "<matplotlib.axes._subplots.AxesSubplot at 0x7f1405efc4d0>"
      ]
     },
     "execution_count": 6,
     "metadata": {},
     "output_type": "execute_result"
    },
    {
     "data": {
      "image/png": "[encoded data removed]",
      "text/plain": [
       "<Figure size 432x288 with 1 Axes>"
      ]
     },
     "metadata": {
      "needs_background": "light"
     },
     "output_type": "display_data"
    }
   ],
   "source": [
    "pandas.DataFrame({\"Old\": lisa_old.p_sim,\n",
    "                  \"Numba\": lisa.p_sim\n",
    "                 }).plot.scatter(\"Old\", \"Numba\")"
   ]
  },
  {
   "cell_type": "markdown",
   "metadata": {},
   "source": [
    "- `numba` hooked up on `Moran_Local`. Single thread."
   ]
  },
  {
   "cell_type": "code",
   "execution_count": 7,
   "metadata": {},
   "outputs": [
    {
     "name": "stdout",
     "output_type": "stream",
     "text": [
      "515 ms ± 47.8 ms per loop (mean ± std. dev. of 7 runs, 1 loop each)\n"
     ]
    }
   ],
   "source": [
    "reload(esda.moran)\n",
    "lisa = esda.Moran_Local(db[y_name], w, permutations=PERMS, numba=True)\n",
    "%timeit lisa = esda.Moran_Local(db[y_name], w, permutations=PERMS, numba=True)"
   ]
  },
  {
   "cell_type": "markdown",
   "metadata": {},
   "source": [
    "---"
   ]
  },
  {
   "cell_type": "code",
   "execution_count": 8,
   "metadata": {},
   "outputs": [],
   "source": [
    "import pygeoda\n",
    "\n",
    "db_geoda = pygeoda.open(get_path(\"NAT.shp\"))\n",
    "y = db_geoda.GetIntegerCol(y_name)\n",
    "w_geoda = pygeoda.weights.queen(db_geoda)"
   ]
  },
  {
   "cell_type": "code",
   "execution_count": 10,
   "metadata": {},
   "outputs": [
    {
     "name": "stdout",
     "output_type": "stream",
     "text": [
      "285 ms ± 12 ms per loop (mean ± std. dev. of 7 runs, 1 loop each)\n",
      "2.88 s ± 35.8 ms per loop (mean ± std. dev. of 7 runs, 1 loop each)\n"
     ]
    }
   ],
   "source": [
    "%timeit lisa_geoda = pygeoda.local_moran(w_geoda, y)\n",
    "lisa_geoda = pygeoda.local_moran(w_geoda, y)\n",
    "lisa_geoda.SetPermutations(9999)\n",
    "%timeit lisa_geoda.Run()"
   ]
  },
  {
   "cell_type": "markdown",
   "metadata": {},
   "source": [
    "---"
   ]
  },
  {
   "cell_type": "markdown",
   "metadata": {},
   "source": [
    "- Example with `neighbors_perm_plus`"
   ]
  },
  {
   "cell_type": "code",
   "execution_count": 22,
   "metadata": {},
   "outputs": [
    {
     "name": "stdout",
     "output_type": "stream",
     "text": [
      "420 µs ± 24.6 µs per loop (mean ± std. dev. of 7 runs, 1000 loops each)\n"
     ]
    }
   ],
   "source": [
    "reload(esda)\n",
    "acc, out = esda.moran.neighbors_perm_plus(lisa.z, \n",
    "                                     lisa.Is, \n",
    "                                     cardinalities, \n",
    "                                     w.sparse.data,\n",
    "                                     PERMS,\n",
    "                                     False\n",
    "                                    )\n",
    "%timeit acc, out = esda.moran.neighbors_perm_plus(lisa.z, lisa.Is, cardinalities, w.sparse.data, PERMS, False)"
   ]
  },
  {
   "cell_type": "markdown",
   "metadata": {},
   "source": [
    "## Permutation index generator"
   ]
  },
  {
   "cell_type": "markdown",
   "metadata": {},
   "source": [
    "- Original implementation"
   ]
  },
  {
   "cell_type": "code",
   "execution_count": 11,
   "metadata": {},
   "outputs": [],
   "source": [
    "nn = w.n - 1\n",
    "k = cardinalities.max() + 1\n",
    "prange = list(range(PERMS))"
   ]
  },
  {
   "cell_type": "code",
   "execution_count": 12,
   "metadata": {},
   "outputs": [
    {
     "name": "stdout",
     "output_type": "stream",
     "text": [
      "2.48 ms ± 9.43 µs per loop (mean ± std. dev. of 7 runs, 100 loops each)\n"
     ]
    }
   ],
   "source": [
    "%timeit rids = np.array([np.random.permutation(nn)[0:k] for i in prange])"
   ]
  },
  {
   "cell_type": "markdown",
   "metadata": {},
   "source": [
    "- Levi `numba`"
   ]
  },
  {
   "cell_type": "code",
   "execution_count": 13,
   "metadata": {},
   "outputs": [
    {
     "name": "stdout",
     "output_type": "stream",
     "text": [
      "90.4 µs ± 422 ns per loop (mean ± std. dev. of 7 runs, 10000 loops each)\n"
     ]
    }
   ],
   "source": [
    "rids = esda.moran.vec_permutations(nn, k)\n",
    "%timeit rids = esda.moran.vec_permutations(nn, k)"
   ]
  },
  {
   "cell_type": "code",
   "execution_count": 18,
   "metadata": {},
   "outputs": [
    {
     "name": "stdout",
     "output_type": "stream",
     "text": [
      "Speed up of 27.43x using numba\n"
     ]
    }
   ],
   "source": [
    "r = 0.00248 / 0.0000904\n",
    "print(f\"Speed up of {np.round(r, 2)}x using numba\")"
   ]
  }
 ],
 "metadata": {
  "kernelspec": {
   "display_name": "Python 3",
   "language": "python",
   "name": "python3"
  },
  "language_info": {
   "codemirror_mode": {
    "name": "ipython",
    "version": 3
   },
   "file_extension": ".py",
   "mimetype": "text/x-python",
   "name": "python",
   "nbconvert_exporter": "python",
   "pygments_lexer": "ipython3",
   "version": "3.7.6"
  }
 },
 "nbformat": 4,
 "nbformat_minor": 4
}
