{
 "cells": [
  {
   "cell_type": "markdown",
   "metadata": {},
   "source": [
    "# Testing different implementations of randomisation in `Moran_Local`"
   ]
  },
  {
   "cell_type": "code",
   "execution_count": 23,
   "metadata": {},
   "outputs": [],
   "source": [
    "from importlib import reload\n",
    "import esda\n",
    "import libpysal as ps\n",
    "import geopandas\n",
    "import pandas\n",
    "import numpy as np\n",
    "\n",
    "PERMS = 9999\n",
    "\n",
    "from libpysal.examples import get_path, load_example"
   ]
  },
  {
   "cell_type": "code",
   "execution_count": 31,
   "metadata": {},
   "outputs": [],
   "source": [
    "_ = load_example(\"NCOVR\")\n",
    "\n",
    "nat = geopandas.read_file(get_path(\"NAT.shp\"))"
   ]
  },
  {
   "cell_type": "markdown",
   "metadata": {},
   "source": [
    "- Load up data"
   ]
  },
  {
   "cell_type": "code",
   "execution_count": 30,
   "metadata": {},
   "outputs": [],
   "source": [
    "y_name = \"HR70\"\n",
    "db = geopandas.read_file(get_path(\"NAT.shp\"))\n",
    "\n",
    "w = ps.weights.Queen.from_dataframe(db)\n",
    "cardinalities = pandas.Series(w.cardinalities).values"
   ]
  },
  {
   "cell_type": "markdown",
   "metadata": {},
   "source": [
    "## Permutation index generator"
   ]
  },
  {
   "cell_type": "markdown",
   "metadata": {},
   "source": [
    "- Original implementation"
   ]
  },
  {
   "cell_type": "code",
   "execution_count": 52,
   "metadata": {},
   "outputs": [],
   "source": [
    "nn = w.n - 1\n",
    "k = cardinalities.max() + 1\n",
    "prange = list(range(PERMS))"
   ]
  },
  {
   "cell_type": "code",
   "execution_count": 54,
   "metadata": {},
   "outputs": [
    {
     "name": "stdout",
     "output_type": "stream",
     "text": [
      "25.7 ms ± 84.9 µs per loop (mean ± std. dev. of 7 runs, 10 loops each)\n"
     ]
    }
   ],
   "source": [
    "%timeit rids = np.array([np.random.permutation(nn)[0:k] for i in prange])"
   ]
  },
  {
   "cell_type": "markdown",
   "metadata": {},
   "source": [
    "- Levi `numba`"
   ]
  },
  {
   "cell_type": "code",
   "execution_count": 55,
   "metadata": {},
   "outputs": [
    {
     "name": "stdout",
     "output_type": "stream",
     "text": [
      "91.4 µs ± 3.01 µs per loop (mean ± std. dev. of 7 runs, 10000 loops each)\n"
     ]
    }
   ],
   "source": [
    "rids = esda.moran.vec_permutations(nn, k)\n",
    "%timeit rids = esda.moran.vec_permutations(nn, k)"
   ]
  },
  {
   "cell_type": "markdown",
   "metadata": {},
   "source": [
    "## LISA conditional randomisation"
   ]
  },
  {
   "cell_type": "markdown",
   "metadata": {},
   "source": [
    "- Example with \"as is\" codebase:"
   ]
  },
  {
   "cell_type": "code",
   "execution_count": 31,
   "metadata": {},
   "outputs": [],
   "source": [
    "lisa = esda.Moran_Local(db[y_name], w, permutations=PERMS)"
   ]
  },
  {
   "cell_type": "markdown",
   "metadata": {},
   "source": [
    "- Implementation \"as is\""
   ]
  },
  {
   "cell_type": "code",
   "execution_count": 32,
   "metadata": {},
   "outputs": [
    {
     "name": "stdout",
     "output_type": "stream",
     "text": [
      "9.82 s ± 8.96 ms per loop (mean ± std. dev. of 7 runs, 1 loop each)\n"
     ]
    }
   ],
   "source": [
    "%timeit lisa = esda.Moran_Local(db[y_name], w, permutations=PERMS)"
   ]
  },
  {
   "cell_type": "markdown",
   "metadata": {},
   "source": [
    "- Example with `neighbors_perm`"
   ]
  },
  {
   "cell_type": "code",
   "execution_count": 33,
   "metadata": {},
   "outputs": [
    {
     "name": "stdout",
     "output_type": "stream",
     "text": [
      "27.9 s ± 11.8 ms per loop (mean ± std. dev. of 7 runs, 1 loop each)\n"
     ]
    }
   ],
   "source": [
    "reload(esda)\n",
    "acc, out = esda.moran.neighbors_perm(lisa.z, \n",
    "                                     lisa.Is, \n",
    "                                     cardinalities, \n",
    "                                     None, \n",
    "                                     w.sparse.data,\n",
    "                                     PERMS,\n",
    "                                     False\n",
    "                                    )\n",
    "%timeit acc, out = esda.moran.neighbors_perm(lisa.z, lisa.Is, cardinalities, None, w.sparse.data, PERMS, False)"
   ]
  },
  {
   "cell_type": "code",
   "execution_count": 34,
   "metadata": {},
   "outputs": [
    {
     "name": "stdout",
     "output_type": "stream",
     "text": [
      "4.03 s ± 6.05 ms per loop (mean ± std. dev. of 7 runs, 1 loop each)\n"
     ]
    }
   ],
   "source": [
    "reload(esda)\n",
    "acc, out = esda.moran.neighbors_perm_plus(lisa.z, \n",
    "                                     lisa.Is, \n",
    "                                     cardinalities, \n",
    "                                     w.sparse.data,\n",
    "                                     PERMS,\n",
    "                                     False\n",
    "                                    )\n",
    "%timeit acc, out = esda.moran.neighbors_perm_plus(lisa.z, lisa.Is, cardinalities, w.sparse.data, PERMS, False)"
   ]
  }
 ],
 "metadata": {
  "kernelspec": {
   "display_name": "Python 3",
   "language": "python",
   "name": "python3"
  },
  "language_info": {
   "codemirror_mode": {
    "name": "ipython",
    "version": 3
   },
   "file_extension": ".py",
   "mimetype": "text/x-python",
   "name": "python",
   "nbconvert_exporter": "python",
   "pygments_lexer": "ipython3",
   "version": "3.7.6"
  }
 },
 "nbformat": 4,
 "nbformat_minor": 4
}
