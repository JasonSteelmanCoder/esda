{
 "cells": [
  {
   "cell_type": "markdown",
   "metadata": {},
   "source": [
    "# Performance comparison"
   ]
  },
  {
   "cell_type": "code",
   "execution_count": 33,
   "metadata": {},
   "outputs": [],
   "source": [
    "%matplotlib inline\n",
    "\n",
    "from geosnap import datasets\n",
    "import geopandas\n",
    "import pandas\n",
    "import esda\n",
    "import libpysal as ps\n",
    "from time import time\n",
    "from os import cpu_count\n",
    "\n",
    "PERMS = 9999\n",
    "\n",
    "from libpysal.examples import get_path, load_example"
   ]
  },
  {
   "cell_type": "markdown",
   "metadata": {},
   "source": [
    "## Data"
   ]
  },
  {
   "cell_type": "code",
   "execution_count": 2,
   "metadata": {},
   "outputs": [
    {
     "name": "stderr",
     "output_type": "stream",
     "text": [
      "Copying: 100%|██████████| 258M/258M [01:58<00:00, 2.17MB/s]   \n",
      "Copying: 100%|██████████| 86.1M/86.1M [00:42<00:00, 2.03MB/s]"
     ]
    },
    {
     "name": "stdout",
     "output_type": "stream",
     "text": [
      "CPU times: user 34.5 s, sys: 16.6 s, total: 51.1 s\n",
      "Wall time: 2min 51s\n"
     ]
    },
    {
     "name": "stderr",
     "output_type": "stream",
     "text": [
      "\n"
     ]
    }
   ],
   "source": [
    "%%time\n",
    "from geosnap.io import store_census\n",
    "store_census()"
   ]
  },
  {
   "cell_type": "markdown",
   "metadata": {},
   "source": [
    "- Counties"
   ]
  },
  {
   "cell_type": "code",
   "execution_count": 12,
   "metadata": {},
   "outputs": [],
   "source": [
    "_ = load_example(\"NCOVR\")\n",
    "\n",
    "counties = geopandas.read_file(get_path(\"NAT.shp\"))\n",
    "w_counties = ps.weights.Queen.from_dataframe(counties)"
   ]
  },
  {
   "cell_type": "markdown",
   "metadata": {},
   "source": [
    "- Tracts"
   ]
  },
  {
   "cell_type": "code",
   "execution_count": 9,
   "metadata": {},
   "outputs": [
    {
     "name": "stdout",
     "output_type": "stream",
     "text": [
      "CPU times: user 20.4 s, sys: 6.7 s, total: 27.1 s\n",
      "Wall time: 1min 35s\n"
     ]
    },
    {
     "name": "stderr",
     "output_type": "stream",
     "text": [
      "/opt/conda/lib/python3.7/site-packages/pyproj/crs/crs.py:55: FutureWarning: '+init=<authority>:<code>' syntax is deprecated. '<authority>:<code>' is the preferred initialization method. When making the change, be mindful of axis order changes: https://pyproj4.github.io/pyproj/stable/gotchas.html#axis-order-changes-in-proj-6\n",
      "  return _prepare_from_string(\" \".join(pjargs))\n"
     ]
    }
   ],
   "source": [
    "%%time\n",
    "tracts = datasets.tracts_2010()\\\n",
    "                 [[\"geoid\", \"median_household_income\", \"geometry\"]]\\\n",
    "                 .dropna()"
   ]
  },
  {
   "cell_type": "code",
   "execution_count": 15,
   "metadata": {},
   "outputs": [
    {
     "name": "stderr",
     "output_type": "stream",
     "text": [
      "/opt/conda/lib/python3.7/site-packages/libpysal/weights/weights.py:167: UserWarning: The weights matrix is not fully connected: \n",
      " There are 37 disconnected components.\n",
      " There are 16 islands with ids: 20, 50, 52, 24654, 35292, 36380, 41050, 41070, 43397, 45974, 48067, 48586, 48788, 63773, 68790, 70510.\n",
      "  warnings.warn(message)\n"
     ]
    }
   ],
   "source": [
    "w_tracts = ps.weights.Queen.from_dataframe(tracts)"
   ]
  },
  {
   "cell_type": "markdown",
   "metadata": {},
   "source": [
    "- Blocks"
   ]
  },
  {
   "cell_type": "markdown",
   "metadata": {},
   "source": [
    "## Setup"
   ]
  },
  {
   "cell_type": "code",
   "execution_count": 26,
   "metadata": {},
   "outputs": [],
   "source": [
    "def workbench(db, y_name, w, perms=PERMS, runs=5):\n",
    "    print(f\"Workbench working on a {cpu_count()}-core machine\")\n",
    "    times = {\n",
    "        \"No Numba\": [],\n",
    "        \"Numba - Single Thread\": [],\n",
    "        \"Numba - Multi Thread\": [],\n",
    "    }\n",
    "    # Ensure function is compiled\n",
    "    one = esda.Moran_Local(db[y_name], \n",
    "                           w, \n",
    "                           permutations=1,\n",
    "                           numba=True,\n",
    "                           n_jobs=1\n",
    "                          )\n",
    "    one = esda.Moran_Local(db[y_name], \n",
    "                           w, \n",
    "                           permutations=1,\n",
    "                           numba=True,\n",
    "                           n_jobs=-1\n",
    "                          )\n",
    "    for i in range(runs):\n",
    "        # Pre-numba\n",
    "        t0 = time()\n",
    "        old = esda.Moran_Local(db[y_name], \n",
    "                               w, \n",
    "                               permutations=perms\n",
    "                              )\n",
    "        t1 = time()\n",
    "        times[\"No Numba\"].append(t1-t0)\n",
    "        # Numba single thread\n",
    "\n",
    "        t0 = time()\n",
    "        one = esda.Moran_Local(db[y_name], \n",
    "                               w, \n",
    "                               permutations=perms,\n",
    "                               numba=True,\n",
    "                               n_jobs=1\n",
    "                              )\n",
    "        t1 = time()\n",
    "        times[\"Numba - Single Thread\"].append(t1-t0)\n",
    "        # Numba multi thread\n",
    "        t0 = time()\n",
    "        one = esda.Moran_Local(db[y_name], \n",
    "                               w, \n",
    "                               permutations=perms,\n",
    "                               numba=True,\n",
    "                               n_jobs=-1\n",
    "                              )\n",
    "        t1 = time()\n",
    "        times[\"Numba - Multi Thread\"].append(t1-t0)\n",
    "    return pandas.DataFrame(times)"
   ]
  },
  {
   "cell_type": "markdown",
   "metadata": {},
   "source": [
    "## All counties"
   ]
  },
  {
   "cell_type": "code",
   "execution_count": 28,
   "metadata": {},
   "outputs": [
    {
     "name": "stdout",
     "output_type": "stream",
     "text": [
      "CPU times: user 1min 51s, sys: 1.66 s, total: 1min 52s\n",
      "Wall time: 1min 58s\n"
     ]
    }
   ],
   "source": [
    "%%time\n",
    "res_counties = workbench(counties, \n",
    "                         \"HR70\", \n",
    "                         w_counties, \n",
    "                         perms=PERMS, \n",
    "                         runs=7\n",
    "                        )"
   ]
  },
  {
   "cell_type": "code",
   "execution_count": 31,
   "metadata": {},
   "outputs": [
    {
     "data": {
      "text/plain": [
       "No Numba                 9.557701\n",
       "Numba - Single Thread    3.209537\n",
       "Numba - Multi Thread     2.574807\n",
       "dtype: float64"
      ]
     },
     "execution_count": 31,
     "metadata": {},
     "output_type": "execute_result"
    }
   ],
   "source": [
    "res_counties.mean()"
   ]
  },
  {
   "cell_type": "code",
   "execution_count": 32,
   "metadata": {},
   "outputs": [
    {
     "data": {
      "text/plain": [
       "<matplotlib.axes._subplots.AxesSubplot at 0x7fcf1ceba610>"
      ]
     },
     "execution_count": 32,
     "metadata": {},
     "output_type": "execute_result"
    },
    {
     "data": {
      "image/png": "[encoded data removed]",
      "text/plain": [
       "<Figure size 432x288 with 1 Axes>"
      ]
     },
     "metadata": {
      "needs_background": "light"
     },
     "output_type": "display_data"
    }
   ],
   "source": [
    "res_counties.plot()"
   ]
  },
  {
   "cell_type": "markdown",
   "metadata": {},
   "source": [
    "## All tracts"
   ]
  },
  {
   "cell_type": "markdown",
   "metadata": {},
   "source": [
    "## All blocks"
   ]
  }
 ],
 "metadata": {
  "kernelspec": {
   "display_name": "Python 3",
   "language": "python",
   "name": "python3"
  },
  "language_info": {
   "codemirror_mode": {
    "name": "ipython",
    "version": 3
   },
   "file_extension": ".py",
   "mimetype": "text/x-python",
   "name": "python",
   "nbconvert_exporter": "python",
   "pygments_lexer": "ipython3",
   "version": "3.7.6"
  }
 },
 "nbformat": 4,
 "nbformat_minor": 4
}
