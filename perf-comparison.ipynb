{
 "cells": [
  {
   "cell_type": "markdown",
   "metadata": {},
   "source": [
    "# Performance comparison"
   ]
  },
  {
   "cell_type": "code",
   "execution_count": 19,
   "metadata": {},
   "outputs": [],
   "source": [
    "%matplotlib inline\n",
    "\n",
    "from geosnap import datasets\n",
    "import geopandas\n",
    "import pandas\n",
    "import esda\n",
    "import pygeoda\n",
    "import os\n",
    "import libpysal as ps\n",
    "from time import time\n",
    "\n",
    "PERMS = 9999\n",
    "\n",
    "from libpysal.examples import get_path, load_example"
   ]
  },
  {
   "cell_type": "markdown",
   "metadata": {},
   "source": [
    "## Data"
   ]
  },
  {
   "cell_type": "code",
   "execution_count": 2,
   "metadata": {},
   "outputs": [
    {
     "name": "stderr",
     "output_type": "stream",
     "text": [
      "Copying: 0.00B [00:00, ?B/s]\n",
      "Copying: 0.00B [00:00, ?B/s]"
     ]
    },
    {
     "name": "stdout",
     "output_type": "stream",
     "text": [
      "CPU times: user 904 ms, sys: 165 ms, total: 1.07 s\n",
      "Wall time: 10 s\n"
     ]
    },
    {
     "name": "stderr",
     "output_type": "stream",
     "text": [
      "\n"
     ]
    }
   ],
   "source": [
    "%%time\n",
    "from geosnap.io import store_census\n",
    "store_census()"
   ]
  },
  {
   "cell_type": "markdown",
   "metadata": {},
   "source": [
    "- Counties"
   ]
  },
  {
   "cell_type": "code",
   "execution_count": 3,
   "metadata": {},
   "outputs": [],
   "source": [
    "_ = load_example(\"NCOVR\")\n",
    "\n",
    "counties = geopandas.read_file(get_path(\"NAT.shp\"))\n",
    "w_counties = ps.weights.Queen.from_dataframe(counties)"
   ]
  },
  {
   "cell_type": "markdown",
   "metadata": {},
   "source": [
    "- Tracts"
   ]
  },
  {
   "cell_type": "code",
   "execution_count": null,
   "metadata": {},
   "outputs": [],
   "source": [
    "%%time\n",
    "tracts = datasets.tracts_2010()\\\n",
    "                 [[\"geoid\", \"median_household_income\", \"geometry\"]]\\\n",
    "                 .dropna()"
   ]
  },
  {
   "cell_type": "code",
   "execution_count": null,
   "metadata": {},
   "outputs": [],
   "source": [
    "%%time\n",
    "w_tracts = ps.weights.Queen.from_dataframe(tracts)"
   ]
  },
  {
   "cell_type": "markdown",
   "metadata": {},
   "source": [
    "- Blocks"
   ]
  },
  {
   "cell_type": "markdown",
   "metadata": {},
   "source": [
    "## Setup"
   ]
  },
  {
   "cell_type": "code",
   "execution_count": 20,
   "metadata": {},
   "outputs": [],
   "source": [
    "def workbench(db, y_name, w, perms=PERMS, runs=5, save_last=False):\n",
    "    print(f\"Workbench working on a {os.cpu_count()}-core machine\")\n",
    "    times = {\n",
    "        \"No Numba\": [],\n",
    "        \"Numba - Single Thread\": [],\n",
    "        \"Numba - Multi Thread\": [],\n",
    "        \"PyGeoda\": [],\n",
    "    }\n",
    "    # Ensure function is compiled\n",
    "    one = esda.Moran_Local(db[y_name], \n",
    "                           w, \n",
    "                           permutations=1,\n",
    "                           numba=True,\n",
    "                           n_jobs=1\n",
    "                          )\n",
    "    one = esda.Moran_Local(db[y_name], \n",
    "                           w, \n",
    "                           permutations=1,\n",
    "                           numba=True,\n",
    "                           n_jobs=-1\n",
    "                          )\n",
    "    # PyGeoda setup\n",
    "    db.to_file(\"tmp\")\n",
    "    db_geoda = pygeoda.open(\"tmp/tmp.shp\")\n",
    "    y_geoda = db_geoda.GetIntegerCol(y_name)\n",
    "    w_geoda = pygeoda.weights.queen(db_geoda)\n",
    "    for i in range(runs):\n",
    "        # Pre-numba\n",
    "        t0 = time()\n",
    "        old = esda.Moran_Local(db[y_name], \n",
    "                               w, \n",
    "                               permutations=perms\n",
    "                              )\n",
    "        t1 = time()\n",
    "        times[\"No Numba\"].append(t1-t0)\n",
    "        # Numba single thread\n",
    "\n",
    "        t0 = time()\n",
    "        one = esda.Moran_Local(db[y_name], \n",
    "                               w, \n",
    "                               permutations=perms,\n",
    "                               numba=True,\n",
    "                               n_jobs=1\n",
    "                              )\n",
    "        t1 = time()\n",
    "        times[\"Numba - Single Thread\"].append(t1-t0)\n",
    "        # Numba multi thread\n",
    "        t0 = time()\n",
    "        mul = esda.Moran_Local(db[y_name], \n",
    "                               w, \n",
    "                               permutations=perms,\n",
    "                               numba=True,\n",
    "                               n_jobs=-1\n",
    "                              )\n",
    "        t1 = time()\n",
    "        times[\"Numba - Multi Thread\"].append(t1-t0)\n",
    "        # PyGeoDa\n",
    "        lisa_geoda = pygeoda.local_moran(w_geoda, y_geoda)\n",
    "        lisa_geoda.SetPermutations(perms)\n",
    "        t0 = time()\n",
    "        lisa_geoda.Run()\n",
    "        t1 = time()\n",
    "        times[\"PyGeoda\"].append(t1-t0)\n",
    "    if save_last:\n",
    "        pvals = pandas.DataFrame({\n",
    "            \"No Numba\": old.p_sim,\n",
    "            \"Numba - Single Thread\": one.p_sim,\n",
    "            \"Numba - Multi Thread\": mul.p_sim\n",
    "        })\n",
    "    else:\n",
    "        pvals = None\n",
    "    os.system(\"rm -rf tmp\")\n",
    "    return pandas.DataFrame(times), pvals"
   ]
  },
  {
   "cell_type": "markdown",
   "metadata": {},
   "source": [
    "## All counties"
   ]
  },
  {
   "cell_type": "code",
   "execution_count": 21,
   "metadata": {},
   "outputs": [
    {
     "name": "stdout",
     "output_type": "stream",
     "text": [
      "Workbench working on a 2-core machine\n",
      "CPU times: user 33.8 s, sys: 227 ms, total: 34 s\n",
      "Wall time: 29.6 s\n"
     ]
    }
   ],
   "source": [
    "%%time\n",
    "res_counties = workbench(counties, \n",
    "                         \"HR70\", \n",
    "                         w_counties, \n",
    "                         perms=99, \n",
    "                         runs=7,\n",
    "                         save_last=True\n",
    "                        )\n",
    "timing_counties, pvals_counties = res_counties"
   ]
  },
  {
   "cell_type": "code",
   "execution_count": 22,
   "metadata": {},
   "outputs": [
    {
     "data": {
      "text/plain": [
       "No Numba                 1.009174\n",
       "Numba - Single Thread    0.126301\n",
       "Numba - Multi Thread     0.110175\n",
       "PyGeoda                  0.068683\n",
       "dtype: float64"
      ]
     },
     "execution_count": 22,
     "metadata": {},
     "output_type": "execute_result"
    }
   ],
   "source": [
    "timing_counties.mean()"
   ]
  },
  {
   "cell_type": "markdown",
   "metadata": {},
   "source": [
    "## All tracts"
   ]
  },
  {
   "cell_type": "markdown",
   "metadata": {},
   "source": [
    "## All blocks"
   ]
  }
 ],
 "metadata": {
  "kernelspec": {
   "display_name": "Python 3",
   "language": "python",
   "name": "python3"
  },
  "language_info": {
   "codemirror_mode": {
    "name": "ipython",
    "version": 3
   },
   "file_extension": ".py",
   "mimetype": "text/x-python",
   "name": "python",
   "nbconvert_exporter": "python",
   "pygments_lexer": "ipython3",
   "version": "3.7.6"
  }
 },
 "nbformat": 4,
 "nbformat_minor": 4
}
